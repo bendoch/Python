{
 "cells": [
  {
   "cell_type": "markdown",
   "id": "50de72fb-aa9e-4705-b7b5-2084c3206e48",
   "metadata": {},
   "source": [
    "# Esercizio 1\n",
    "Abbiamo una lista di liste: mat = [[0, 1, 2, 3, 4], [5, 6, 7, 8, 9], [10, 11, 12, 13, 14]] Che tipo di struttura dati o matematica potrebbe rappresentare? Notare che tutte le liste \"interne\" sono della stessa dimensione Come facciamo per accedere ad un elemento in particolare?"
   ]
  },
  {
   "cell_type": "code",
   "execution_count": 1,
   "id": "13fe3e07-c88e-4ac9-80cf-a35082098106",
   "metadata": {},
   "outputs": [],
   "source": [
    "mat = [[0, 1, 2, 3, 4], [5, 6, 7, 8, 9], [10, 11, 12, 13, 14]]"
   ]
  },
  {
   "cell_type": "code",
   "execution_count": 8,
   "id": "56dbe2a3-2389-46e8-9664-39b181031497",
   "metadata": {},
   "outputs": [
    {
     "name": "stdout",
     "output_type": "stream",
     "text": [
      "7\n"
     ]
    }
   ],
   "source": [
    "mat1 = mat[1]\n",
    "print(mat1[2])"
   ]
  },
  {
   "cell_type": "markdown",
   "id": "753ccae9-9096-4c65-a100-51832dc6804f",
   "metadata": {
    "jp-MarkdownHeadingCollapsed": true
   },
   "source": [
    "# Esercizio 2:\n",
    "Importiamo il modulo math e proviamo a usare le funzioni .sin() .cos() .factorial() e la variabile .pi la riconoscete?"
   ]
  },
  {
   "cell_type": "code",
   "execution_count": 9,
   "id": "125de517-a3fe-4846-bfea-9989d8e3c098",
   "metadata": {},
   "outputs": [],
   "source": [
    "import math"
   ]
  },
  {
   "cell_type": "code",
   "execution_count": 13,
   "id": "ffd9f06b-7ba9-40e4-b45b-3c60bdd07be4",
   "metadata": {},
   "outputs": [
    {
     "data": {
      "text/plain": [
       "-0.3048106211022167"
      ]
     },
     "execution_count": 13,
     "metadata": {},
     "output_type": "execute_result"
    }
   ],
   "source": [
    "math.sin(60)"
   ]
  },
  {
   "cell_type": "code",
   "execution_count": 14,
   "id": "8daaaf4a-e7f4-437d-901c-fd964b30a774",
   "metadata": {},
   "outputs": [
    {
     "data": {
      "text/plain": [
       "-0.9524129804151563"
      ]
     },
     "execution_count": 14,
     "metadata": {},
     "output_type": "execute_result"
    }
   ],
   "source": [
    "math.cos(60)"
   ]
  },
  {
   "cell_type": "code",
   "execution_count": 15,
   "id": "5a4ae549-36c0-4c4d-81f8-d95d4416ac2a",
   "metadata": {},
   "outputs": [
    {
     "data": {
      "text/plain": [
       "3.141592653589793"
      ]
     },
     "execution_count": 15,
     "metadata": {},
     "output_type": "execute_result"
    }
   ],
   "source": [
    "math.pi"
   ]
  },
  {
   "cell_type": "code",
   "execution_count": 16,
   "id": "fb095d97-9d22-41ca-baa1-d57e09bf80cc",
   "metadata": {},
   "outputs": [
    {
     "data": {
      "text/plain": [
       "8320987112741390144276341183223364380754172606361245952449277696409600000000000000"
      ]
     },
     "execution_count": 16,
     "metadata": {},
     "output_type": "execute_result"
    }
   ],
   "source": [
    "math.factorial(60)"
   ]
  },
  {
   "cell_type": "markdown",
   "id": "6f658253-beea-4f29-ba4c-dc9a4cefc88b",
   "metadata": {},
   "source": [
    "# Esercizio 3:\n",
    "Proviamo a eseguire math.degrees(math.pi) Qual è e cosa significa il risultato? Per saperne di più su questa funzione possiamo usare help(math.degrees)"
   ]
  },
  {
   "cell_type": "code",
   "execution_count": 17,
   "id": "b2fd9c47-7ca9-458a-aa2d-d7e2b5d12036",
   "metadata": {},
   "outputs": [
    {
     "data": {
      "text/plain": [
       "180.0"
      ]
     },
     "execution_count": 17,
     "metadata": {},
     "output_type": "execute_result"
    }
   ],
   "source": [
    "math.degrees(math.pi)"
   ]
  },
  {
   "cell_type": "code",
   "execution_count": 18,
   "id": "1c4bdc7c-dfa7-4cb3-977b-b75fdecd833d",
   "metadata": {},
   "outputs": [
    {
     "name": "stdout",
     "output_type": "stream",
     "text": [
      "Help on built-in function degrees in module math:\n",
      "\n",
      "degrees(x, /)\n",
      "    Convert angle x from radians to degrees.\n",
      "\n"
     ]
    }
   ],
   "source": [
    "help(math.degrees)"
   ]
  },
  {
   "cell_type": "markdown",
   "id": "34c30a67-fef8-4639-8830-ca2fe0ae942c",
   "metadata": {
    "jp-MarkdownHeadingCollapsed": true
   },
   "source": [
    "# Esercizio 4:\n",
    "L'azienda Object SpA ha creato una lista di quanti oggetti ha venduto ogni mese nell'ultimo anno: lst = [2000, 5500, 7200, 4320, 1280, 1900, 2500, 3900, 6410, 8150, 7100, 5350] trasformiamola in un array NumPy (casting): lst = np.array(lst) e rispondiamo alle domande del CEO della Object SpA: \n",
    "* qual è stata la vendita massima mensile? E quella minima? \n",
    "* quali sono le vendite mensili maggiori di 4999 oggetti? E quante ne sono?\n",
    "* quali sono le vendite minori di 3000 oggetti?\n",
    "* in media quanti oggetti sono stati venduti al mese?"
   ]
  },
  {
   "cell_type": "code",
   "execution_count": 19,
   "id": "41a29914-11f0-48c3-a414-8e18c5ef10e9",
   "metadata": {},
   "outputs": [],
   "source": [
    "lst = [2000, 5500, 7200, 4320, 1280, 1900, 2500, 3900, 6410, 8150, 7100, 5350]"
   ]
  },
  {
   "cell_type": "code",
   "execution_count": 20,
   "id": "807714bf-415d-4968-8f27-811886bb7a92",
   "metadata": {},
   "outputs": [],
   "source": [
    "import numpy as np"
   ]
  },
  {
   "cell_type": "code",
   "execution_count": 21,
   "id": "fc976f84-1aa6-4fd8-88ce-86cbcb4f1a76",
   "metadata": {},
   "outputs": [],
   "source": [
    "lst = np.array(lst)"
   ]
  },
  {
   "cell_type": "code",
   "execution_count": 33,
   "id": "845e996d-3477-482e-9771-547078309900",
   "metadata": {},
   "outputs": [
    {
     "name": "stdout",
     "output_type": "stream",
     "text": [
      "il massimo è: 8150 , il minimo è: 1280\n"
     ]
    }
   ],
   "source": [
    "print('il massimo è:',lst.max(),', il minimo è:',lst.min())"
   ]
  },
  {
   "cell_type": "code",
   "execution_count": 35,
   "id": "e3ee4ef7-e18b-489b-ae23-09aa87d5973c",
   "metadata": {},
   "outputs": [
    {
     "name": "stdout",
     "output_type": "stream",
     "text": [
      "le vendite maggiori di 4999 sono: [5500 7200 6410 8150 7100 5350] , per un totale di 6\n"
     ]
    }
   ],
   "source": [
    "maggiori = lst > 4999\n",
    "print('le vendite maggiori di 4999 sono:',lst[maggiori],', per un totale di',len(lst[maggiori]))"
   ]
  },
  {
   "cell_type": "code",
   "execution_count": 38,
   "id": "b16319a1-297a-42ca-8e17-b1713a2d72b1",
   "metadata": {},
   "outputs": [
    {
     "name": "stdout",
     "output_type": "stream",
     "text": [
      "le vendite minori di 3000 sono: [2000 1280 1900 2500] , per un totale di 4\n"
     ]
    }
   ],
   "source": [
    "minori = lst < 3000\n",
    "print('le vendite minori di 3000 sono:',lst[minori],', per un totale di', len(lst[minori]))"
   ]
  },
  {
   "cell_type": "code",
   "execution_count": 40,
   "id": "2be4df49-5333-4179-b29c-e522651cbb49",
   "metadata": {},
   "outputs": [
    {
     "name": "stdout",
     "output_type": "stream",
     "text": [
      "la media delle vendite è: 4634.166666666667\n"
     ]
    }
   ],
   "source": [
    "print('la media delle vendite è:',lst.mean())"
   ]
  },
  {
   "cell_type": "markdown",
   "id": "5e2b5877-1c03-4510-afca-1ad63d3037fa",
   "metadata": {
    "jp-MarkdownHeadingCollapsed": true
   },
   "source": [
    "# Esercizio 5:\n",
    "Consideriamo il seguente dizionario: fatturati_dict = {1997: 12_000, 1998: 15_000, 1999: 20_000, 2000: 23_000, 2001: 25_000, 2002: 17_000, 2003: 14_000, 2004: 21_000} Consideriamo ora la seguente Series: fatturati_series = pd.Series([12_000, 15_000, 20_000, 23_000, 25_000, 17_000, 14_000, 21_000], index=range(1997, 2005)) \n",
    "Possiamo accedere alle stesse informazioni nello stesso modo: fatturati_dict[1997] fatturati_series[1997] Dunque qual è la differenza tra i due tipi di dato?"
   ]
  },
  {
   "cell_type": "code",
   "execution_count": 43,
   "id": "9c49089e-a283-4af1-93b4-051d6591ef5a",
   "metadata": {},
   "outputs": [],
   "source": [
    "import pandas as pd\n",
    "fatturati_dict = {1997: 12_000, 1998: 15_000, 1999: 20_000, 2000: 23_000, 2001: 25_000, 2002: 17_000, 2003: 14_000, 2004: 21_000}\n",
    "fatturati_series = pd.Series([12_000, 15_000, 20_000, 23_000, 25_000, 17_000, 14_000, 21_000], index=range(1997, 2005))"
   ]
  },
  {
   "cell_type": "code",
   "execution_count": 47,
   "id": "929f4053-491d-4573-b1d3-8ba8dc167afa",
   "metadata": {},
   "outputs": [
    {
     "data": {
      "text/plain": [
       "int"
      ]
     },
     "execution_count": 47,
     "metadata": {},
     "output_type": "execute_result"
    }
   ],
   "source": [
    "type(fatturati_dict[1997])"
   ]
  },
  {
   "cell_type": "code",
   "execution_count": 46,
   "id": "cd7f25ad-3229-4ffd-9880-77d574a6f6b3",
   "metadata": {},
   "outputs": [
    {
     "data": {
      "text/plain": [
       "numpy.int64"
      ]
     },
     "execution_count": 46,
     "metadata": {},
     "output_type": "execute_result"
    }
   ],
   "source": [
    "type(fatturati_series[1997])"
   ]
  },
  {
   "cell_type": "markdown",
   "id": "4cb86469-c106-48d5-b8fb-f57dca4f1766",
   "metadata": {},
   "source": [
    "# Esercizio 6:\n",
    "L'azienda Object SpA ha un dataset con tutti gli stipendi dei dipendenti, memorizzato in un ndarray: import numpy as np stipendi = np.array( [100, 200, 300, 400, 500,  600, 700, 800, 900, 1000] ) L'azienda ci chiede di raddoppiare tutti gli stipendi; facciamolo in due modi: \n",
    "* con un ciclo for\n",
    "* con il masking"
   ]
  },
  {
   "cell_type": "code",
   "execution_count": 48,
   "id": "e3d5d703-ea7d-41b9-8788-7fc40aea6aab",
   "metadata": {},
   "outputs": [],
   "source": [
    "stipendi = np.array( [100, 200, 300, 400, 500, 600, 700, 800, 900, 1000] )"
   ]
  },
  {
   "cell_type": "code",
   "execution_count": null,
   "id": "1a187acb-914c-4598-9e8f-dee1669c018e",
   "metadata": {},
   "outputs": [],
   "source": [
    "nuovi_stipendi = []\n",
    "for stipendio in stipendi:\n",
    "    nuovo_stipendio = stipendio*2\n",
    "    nuovi_stipendi.append(nuovo_stipendio)\n",
    "print(nuovi_sti"
   ]
  }
 ],
 "metadata": {
  "kernelspec": {
   "display_name": "Python 3 (ipykernel)",
   "language": "python",
   "name": "python3"
  },
  "language_info": {
   "codemirror_mode": {
    "name": "ipython",
    "version": 3
   },
   "file_extension": ".py",
   "mimetype": "text/x-python",
   "name": "python",
   "nbconvert_exporter": "python",
   "pygments_lexer": "ipython3",
   "version": "3.12.7"
  }
 },
 "nbformat": 4,
 "nbformat_minor": 5
}
