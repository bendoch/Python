{
 "cells": [
  {
   "cell_type": "markdown",
   "id": "ac2c7312-6d48-489e-ae89-7b3c5173786e",
   "metadata": {},
   "source": [
    "Esercizio 1:\n",
    "Individuiamo tre task di qualsiasi tipo (fare la spesa, studiare un concetto, riempire il serbatoio dell'auto, acquistare uno snack da un distributore\n",
    "automatico, o qualunque altra cosa); Scriviamo un algoritmo (in forma testuale), cioè i passi necessari, per ognuno dei task selezionati.\n",
    "\n",
    "Andare a fare jogging:\n",
    "1. Selezionare scarpe, pantaloni e maglietta adatti\n",
    "2. Indossare pantaloni, maglietta e scarpe selezionati\n",
    "3. Controllare meteo\n",
    "  4. Se piove, indossare impermeabile. Altrimenti saltare questo passaggio\n",
    "5. Uscire di casa\n",
    "6. Selezionare percorso e durata\n",
    "7. Correre seguendo il percorso selezionato\n",
    "8. Al termine della corsa rientrare a casa\n",
    "9. Togliere i vestiti\n",
    "10. Fare una doccia\n",
    "\n",
    "Fare una tazza di tè:\n",
    "1. Riempire il bollitore di acqua fredda\n",
    "2. Accendere il bollitore\n",
    "3. Prendere una tazza\n",
    "4. Inserire bustina di tè nella tazza\n",
    "5. Controllare che l'acqua bolla\n",
    "  6. Se bolle, versa l'acqua nella tazza. Altrimenti attendere e ritornare al punto 5\n",
    "7. Lasciare il tè in infusione per 3 minuti\n",
    "8. Aggiungere zucchero\n",
    "9. Mescolare\n",
    "\n",
    "Fare la lavatrice:\n",
    "1. Raccogliere indumenti sporchi\n",
    "2. Suddividere gli indumenti sporchi in tre categorie: bianchi, delicati e colorati\n",
    "3. Selezionare la categoria con quantità maggiore\n",
    "4. Inserire gli indumenti selezionati nella lavatrice\n",
    "5. Inserire detersivo e ammorbidente negli appositi contenitori\n",
    "6. Selezionare un programma di lavaggio a seconda della categoria di indumenti inseriti\n",
    "   Se bianchi, Eco 30\n",
    "   Se delicati, Delicati\n",
    "   Se colorati, Ciclo completo\n",
    "7. Avviare la lavatrice\n",
    "8. Attendere il termine del lavaggio\n",
    "9. Estrarre gli indumenti dalla lavatrice\n",
    "10. Stendere gli indumenti lavati"
   ]
  },
  {
   "cell_type": "code",
   "execution_count": 1,
   "id": "fdf7b2d5-879e-46d6-a48b-237a17a3ed42",
   "metadata": {},
   "outputs": [],
   "source": [
    "#Esercizio 2:\n",
    "#Abbiamo 25 studenti; memorizzare questo dato in una variabile.\n",
    "\n",
    "n_std = 25"
   ]
  },
  {
   "cell_type": "code",
   "execution_count": 2,
   "id": "b5d3df2d-9c8e-4aac-b2df-5895fc101cab",
   "metadata": {},
   "outputs": [
    {
     "name": "stdout",
     "output_type": "stream",
     "text": [
      "25\n"
     ]
    }
   ],
   "source": [
    "#Esercizio 3:\n",
    "#Abbiamo 25 studenti; memorizzare questo dato in una variabile e stamparla a video.\n",
    "\n",
    "print(n_std)"
   ]
  },
  {
   "cell_type": "code",
   "execution_count": 3,
   "id": "54cd2bb7-ff78-4b5b-8219-852c87bd9864",
   "metadata": {},
   "outputs": [],
   "source": [
    "#Esercizio 4:\n",
    "#Abbiamo 25 studenti; memorizzare questo dato in una variabile. Arrivano altri 3 studenti; memorizzare questo dato in un'altra variabile.\n",
    "\n",
    "n_std2 = 3"
   ]
  },
  {
   "cell_type": "code",
   "execution_count": 8,
   "id": "af39991a-b14e-4371-8358-20a3a9a29cb2",
   "metadata": {},
   "outputs": [
    {
     "name": "stdout",
     "output_type": "stream",
     "text": [
      "Il numero di studenti è: 28."
     ]
    }
   ],
   "source": [
    "#Esercizio 5:\n",
    "#Abbiamo 25 studenti; memorizzare questo dato in una variabile. Arrivano altri 3 studenti; memorizzare questo dato in un'altra variabile. \n",
    "#Creare un'altra variabile ancora che conterrà la somma delle prime due, poi stamparla a video.\n",
    "\n",
    "n_std_tot = n_std + n_std2\n",
    "print(\"Il numero di studenti è:\",n_std_tot,end='.')"
   ]
  },
  {
   "cell_type": "code",
   "execution_count": 5,
   "id": "14e3e514-60bc-4725-a7bd-e1f4f02bf902",
   "metadata": {},
   "outputs": [
    {
     "name": "stdout",
     "output_type": "stream",
     "text": [
      "Epicode\n"
     ]
    }
   ],
   "source": [
    "#Esercizio 6:\n",
    "#Creare una variabile che contiene la stringa \"Epicode\", quindi stamparla a video.\n",
    "\n",
    "epcd = 'Epicode'\n",
    "print(epcd)"
   ]
  },
  {
   "cell_type": "code",
   "execution_count": 7,
   "id": "18e77497-c947-4ae0-bf3a-1d49c6d27bdd",
   "metadata": {},
   "outputs": [
    {
     "name": "stdout",
     "output_type": "stream",
     "text": [
      "36\n"
     ]
    }
   ],
   "source": [
    "#Esercizio 7:\n",
    "#Abbiamo la variabile: x = 10 Incrementarla di 2 e poi moltiplicarla per 3 Usare due metodi diversi \n",
    "#(ad esempio, uno utilizzando gli operatori di assegnazione, e uno senza)\n",
    "\n",
    "x = 10\n",
    "x = x + 2\n",
    "x = x * 3\n",
    "print(x)"
   ]
  },
  {
   "cell_type": "code",
   "execution_count": 9,
   "id": "b347984e-024d-43b8-95a6-6abeb9484a32",
   "metadata": {},
   "outputs": [
    {
     "name": "stdout",
     "output_type": "stream",
     "text": [
      "36\n"
     ]
    }
   ],
   "source": [
    "#metodo 2\n",
    "x = 10\n",
    "x += 2\n",
    "x *= 3\n",
    "print(x)"
   ]
  },
  {
   "cell_type": "code",
   "execution_count": 23,
   "id": "19c97b07-2c5c-4579-bad9-9ba726966363",
   "metadata": {},
   "outputs": [
    {
     "name": "stdout",
     "output_type": "stream",
     "text": [
      "Windows , il numero di caratteri è: 7 . Compreso tra 5 e 8\n",
      "Excel , il numero di caratteri è: 5 . Compreso tra 5 e 8\n",
      "Powerpoint , il numero di caratteri è: 10 . Non compreso tra 5 e 8\n",
      "Word , il numero di caratteri è: 4 . Non compreso tra 5 e 8\n"
     ]
    }
   ],
   "source": [
    "#Esercizio 8:\n",
    "#Verificare, per ognuna delle seguenti stringhe, se il numero di caratteri è compreso tra 5 e 8: \n",
    "#• str1 = \"Windows\" • str2 = \"Excel\" • str3 = \"Powerpoint\" • str4 = \"Word\"\n",
    "\n",
    "str1 = \"Windows\"\n",
    "str2 = \"Excel\"\n",
    "str3 = \"Powerpoint\"\n",
    "str4 = \"Word\"\n",
    "\n",
    "if 5<=len(str1)<=8:\n",
    " print(str1,',', 'il numero di caratteri è:', len(str1),'.' ,'Compreso tra 5 e 8')\n",
    "else:\n",
    "    print(str1,',', 'il numero di caratteri è:', len(str1),'.' ,'Non compreso tra 5 e 8')\n",
    "\n",
    "if 5<=len(str2)<=8:\n",
    " print(str2,',', 'il numero di caratteri è:', len(str2),'.' ,'Compreso tra 5 e 8')\n",
    "else:\n",
    "    print(str2,',', 'il numero di caratteri è:', len(str2),'.' ,'Non compreso tra 5 e 8')\n",
    "\n",
    "if 5<=len(str3)<=8:\n",
    " print(str3,',', 'il numero di caratteri è:', len(str3),'.' ,'Compreso tra 5 e 8')\n",
    "else:\n",
    "    print(str3,',', 'il numero di caratteri è:', len(str3),'.' ,'Non compreso tra 5 e 8')\n",
    "\n",
    "if 5<=len(str4)<=8:\n",
    " print(str4,',', 'il numero di caratteri è:', len(str4),'.' ,'Compreso tra 5 e 8')\n",
    "else:\n",
    "    print(str4,',', 'il numero di caratteri è:', len(str4),'.' ,'Non compreso tra 5 e 8')"
   ]
  },
  {
   "cell_type": "code",
   "execution_count": 24,
   "id": "161e1e1f-0695-42ae-8146-8899b7cceffb",
   "metadata": {},
   "outputs": [
    {
     "name": "stdout",
     "output_type": "stream",
     "text": [
      "31536000\n"
     ]
    }
   ],
   "source": [
    "#Esercizio 9:\n",
    "#Calcolare e stampare a video quanti secondi ci sono in un anno non bisestile.\n",
    "\n",
    "secondo=1\n",
    "minuto=60*secondo\n",
    "ora=60*minuto\n",
    "giorno=24*ora\n",
    "anno=365*giorno\n",
    "print(anno)"
   ]
  },
  {
   "cell_type": "code",
   "execution_count": 31,
   "id": "d46121e9-b458-4711-a726-768015b9b9ef",
   "metadata": {},
   "outputs": [
    {
     "data": {
      "text/plain": [
       "'I am studying Python'"
      ]
     },
     "execution_count": 31,
     "metadata": {},
     "output_type": "execute_result"
    }
   ],
   "source": [
    "#Esercizio 10\n",
    "#Abbiamo la seguente stringa: my_string = \"I am studying Python\" \n",
    "#• Trasformarla in modo che tutti i caratteri siano maiuscoli (uppercase) \n",
    "#• Trasformarla in modo che tutti i caratteri siano minuscoli (lowercase) \n",
    "#• Sostituire la sottostringa \"Python\" con la stringa \"a lot\" \n",
    "#• Usare il metodo .strip(); cambia qualcosa? Perché?\n",
    "\n",
    "my_string = \"I am studying Python\" \n",
    "my_string.upper()\n",
    "my_string.lower()\n",
    "my_string.replace(\"Python\",\"a lot\")\n",
    "my_string.strip()"
   ]
  },
  {
   "cell_type": "code",
   "execution_count": null,
   "id": "69aa5d37-7449-4c24-8a00-fb9d66892417",
   "metadata": {},
   "outputs": [],
   "source": []
  }
 ],
 "metadata": {
  "kernelspec": {
   "display_name": "Python 3 (ipykernel)",
   "language": "python",
   "name": "python3"
  },
  "language_info": {
   "codemirror_mode": {
    "name": "ipython",
    "version": 3
   },
   "file_extension": ".py",
   "mimetype": "text/x-python",
   "name": "python",
   "nbconvert_exporter": "python",
   "pygments_lexer": "ipython3",
   "version": "3.12.7"
  }
 },
 "nbformat": 4,
 "nbformat_minor": 5
}
