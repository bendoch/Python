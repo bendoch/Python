{
 "cells": [
  {
   "cell_type": "markdown",
   "id": "6f6925a1-f4f1-4f42-8c5d-cdfb575bceba",
   "metadata": {
    "jp-MarkdownHeadingCollapsed": true
   },
   "source": [
    "# Esercizio 1:\n",
    "Abbiamo la stringa: nome_scuola = \"Epicode\" Stampare ogni carattere della stringa, uno su ogni riga, utilizzando un costrutto while."
   ]
  },
  {
   "cell_type": "code",
   "execution_count": 3,
   "id": "91d9c31e-df40-49d1-81b2-91378425d9ec",
   "metadata": {},
   "outputs": [],
   "source": [
    "nome_scuola = \"Epicode\"\n",
    "indice = 0\n",
    "lunghezza = len(nome_scuola)"
   ]
  },
  {
   "cell_type": "code",
   "execution_count": 4,
   "id": "79b308ba-79db-4ba9-acd5-94caacfec8a9",
   "metadata": {},
   "outputs": [
    {
     "name": "stdout",
     "output_type": "stream",
     "text": [
      "E \n",
      "\n",
      "p \n",
      "\n",
      "i \n",
      "\n",
      "c \n",
      "\n",
      "o \n",
      "\n",
      "d \n",
      "\n",
      "e \n",
      "\n"
     ]
    }
   ],
   "source": [
    "while indice < lunghezza:\n",
    "    carattere = nome_scuola[indice]\n",
    "    indice += 1\n",
    "    print ( carattere , '\\n')"
   ]
  },
  {
   "cell_type": "markdown",
   "id": "dd0e1d99-dc7f-428e-91b1-05de7d47e6c4",
   "metadata": {
    "jp-MarkdownHeadingCollapsed": true
   },
   "source": [
    "# Esercizio 2:\n",
    "Stampare a video tutti i numeri da 0 a 20 utilizzando il costrutto while. Utilizzeremo:\n",
    " • un ciclo while • la funzione print() • una variabile, che dovrà essere inizializzata • una procedura di incremento"
   ]
  },
  {
   "cell_type": "code",
   "execution_count": 5,
   "id": "85b20321-43f8-42a8-a028-06e08d1e72cd",
   "metadata": {},
   "outputs": [],
   "source": [
    "n = 0"
   ]
  },
  {
   "cell_type": "code",
   "execution_count": 6,
   "id": "0efcc54b-822e-43c0-ae8f-c9aa89b3dd13",
   "metadata": {},
   "outputs": [
    {
     "name": "stdout",
     "output_type": "stream",
     "text": [
      "0 \n",
      "\n",
      "1 \n",
      "\n",
      "2 \n",
      "\n",
      "3 \n",
      "\n",
      "4 \n",
      "\n",
      "5 \n",
      "\n",
      "6 \n",
      "\n",
      "7 \n",
      "\n",
      "8 \n",
      "\n",
      "9 \n",
      "\n",
      "10 \n",
      "\n",
      "11 \n",
      "\n",
      "12 \n",
      "\n",
      "13 \n",
      "\n",
      "14 \n",
      "\n",
      "15 \n",
      "\n",
      "16 \n",
      "\n",
      "17 \n",
      "\n",
      "18 \n",
      "\n",
      "19 \n",
      "\n",
      "20 \n",
      "\n"
     ]
    }
   ],
   "source": [
    "while n <= 20:\n",
    "    print(n, '\\n')\n",
    "    n += 1"
   ]
  },
  {
   "cell_type": "markdown",
   "id": "8c43c190-42b8-4194-b813-da521045dd99",
   "metadata": {
    "jp-MarkdownHeadingCollapsed": true
   },
   "source": [
    "# Esercizio 3:\n",
    "Calcolare e stampare tutte le prime 10 potenze di 2 (e.g., 2⁰, 2¹, 2², …) utilizzando un ciclo while."
   ]
  },
  {
   "cell_type": "code",
   "execution_count": 7,
   "id": "3f46493d-f26e-4cd7-8b51-755a6da0dce6",
   "metadata": {},
   "outputs": [],
   "source": [
    "x = 2\n",
    "y = 0"
   ]
  },
  {
   "cell_type": "code",
   "execution_count": 8,
   "id": "2e5abab3-6185-4b00-bffb-193c60b8c9d3",
   "metadata": {},
   "outputs": [
    {
     "name": "stdout",
     "output_type": "stream",
     "text": [
      "1 \n",
      "\n",
      "2 \n",
      "\n",
      "4 \n",
      "\n",
      "8 \n",
      "\n",
      "16 \n",
      "\n",
      "32 \n",
      "\n",
      "64 \n",
      "\n",
      "128 \n",
      "\n",
      "256 \n",
      "\n",
      "512 \n",
      "\n"
     ]
    }
   ],
   "source": [
    "while y < 10:\n",
    "    print (x**y , '\\n')\n",
    "    y += 1"
   ]
  },
  {
   "cell_type": "markdown",
   "id": "371de2df-6c15-4a4c-8e9c-cd8d5a7e884f",
   "metadata": {
    "jp-MarkdownHeadingCollapsed": true
   },
   "source": [
    "# Esercizio 4:\n",
    "Calcolare e stampare tutte le prime N potenze di 2 utilizzando un ciclo while, domandando all'utente di inserire N."
   ]
  },
  {
   "cell_type": "code",
   "execution_count": 9,
   "id": "f02cb5fa-ebcc-4ae3-9b7b-5c7a682d8d7b",
   "metadata": {},
   "outputs": [
    {
     "name": "stdin",
     "output_type": "stream",
     "text": [
      "Inserisci il numero N delle potenze di 2 da calcolare:  7\n"
     ]
    }
   ],
   "source": [
    "N = int(input(\"Inserisci il numero N delle potenze di 2 da calcolare: \"))\n",
    "z = 0"
   ]
  },
  {
   "cell_type": "code",
   "execution_count": 10,
   "id": "aac66cf3-4fd7-4877-a649-4ccf8ef84d36",
   "metadata": {},
   "outputs": [
    {
     "name": "stdout",
     "output_type": "stream",
     "text": [
      "1 \n",
      "\n",
      "2 \n",
      "\n",
      "4 \n",
      "\n",
      "8 \n",
      "\n",
      "16 \n",
      "\n",
      "32 \n",
      "\n",
      "64 \n",
      "\n"
     ]
    }
   ],
   "source": [
    "while z < N:\n",
    "    print( 2**z , '\\n')\n",
    "    z += 1"
   ]
  },
  {
   "cell_type": "markdown",
   "id": "9b036644-9cc6-4ddd-8ab4-bc089b1930ed",
   "metadata": {
    "jp-MarkdownHeadingCollapsed": true
   },
   "source": [
    "# Esercizio 5:\n",
    "Calcolare e stampare tutte le potenze di 2 minori di 25000."
   ]
  },
  {
   "cell_type": "code",
   "execution_count": 11,
   "id": "6100e2d0-9732-4438-8610-c3601f89ff6a",
   "metadata": {},
   "outputs": [],
   "source": [
    "y=0\n",
    "x=2**y"
   ]
  },
  {
   "cell_type": "code",
   "execution_count": 12,
   "id": "0b67b52d-3862-4590-bb0e-e4b32ec2456e",
   "metadata": {},
   "outputs": [
    {
     "name": "stdout",
     "output_type": "stream",
     "text": [
      "1\n",
      "2\n",
      "4\n",
      "8\n",
      "16\n",
      "32\n",
      "64\n",
      "128\n",
      "256\n",
      "512\n",
      "1024\n",
      "2048\n",
      "4096\n",
      "8192\n",
      "16384\n"
     ]
    }
   ],
   "source": [
    "while x<25000:\n",
    "    print(x)\n",
    "    y+=1\n",
    "    x=2**y"
   ]
  },
  {
   "cell_type": "markdown",
   "id": "02e01eb3-a12c-4c3f-8e34-29141ecf0ceb",
   "metadata": {
    "jp-MarkdownHeadingCollapsed": true
   },
   "source": [
    "# Esercizio 6:\n",
    "Abbiamo due liste, una di studenti e una di corsi:\n",
    "studenti = [\"Alex\", \"Bob\", \"Cindy\", \"Dan\", \"Emma\", \"Faith\", \"Grace\", \"Henry\"]\n",
    "corsi = [\"Cybersecurity\", \"Data Analyst\", \"Backend\", \"Frontend\", \"Data Analyst\", \"Backend\"]\n",
    "Aggiungere i dati mancanti alla lista corsi, sapendo che Emma segue Data Analyst, Faith segue Backend, Grace segue Frontend, Henry segue Cybersecurity\n",
    "Aggiungeremo i dati mancanti uno alla volta con il metodo per appendere in coda alle liste, poi verificheremo che sono della stessa lunghezza\n",
    "e se lo sono stamperemo la lista corsi. Se alcuni dati sono già presenti non vanno aggiunti di nuovo"
   ]
  },
  {
   "cell_type": "code",
   "execution_count": 13,
   "id": "232fcbe5-4807-43d6-9a16-5115d1202317",
   "metadata": {},
   "outputs": [
    {
     "name": "stdout",
     "output_type": "stream",
     "text": [
      "6 8\n"
     ]
    }
   ],
   "source": [
    "studenti = [\"Alex\", \"Bob\", \"Cindy\", \"Dan\", \"Emma\", \"Faith\", \"Grace\", \"Henry\"]\n",
    "corsi = [\"Cybersecurity\", \"Data Analyst\", \"Backend\", \"Frontend\", \"Data Analyst\", \"Backend\"]\n",
    "num_stud = len(studenti)\n",
    "num_corsi = len(corsi)\n",
    "print(num_corsi , num_stud)"
   ]
  },
  {
   "cell_type": "code",
   "execution_count": 14,
   "id": "630972dd-35ab-409c-8bc6-0939ed528227",
   "metadata": {},
   "outputs": [
    {
     "name": "stdout",
     "output_type": "stream",
     "text": [
      "8 8\n"
     ]
    }
   ],
   "source": [
    "corsi.append('Frontend')\n",
    "corsi.append('Cybersecurity')\n",
    "num_corsi = len(corsi)\n",
    "print(num_corsi , num_stud)"
   ]
  },
  {
   "cell_type": "code",
   "execution_count": 15,
   "id": "e68184aa-f4e2-4a4a-99c3-542bc66e5a53",
   "metadata": {},
   "outputs": [
    {
     "name": "stdout",
     "output_type": "stream",
     "text": [
      "['Cybersecurity', 'Data Analyst', 'Backend', 'Frontend', 'Data Analyst', 'Backend', 'Frontend', 'Cybersecurity']\n"
     ]
    }
   ],
   "source": [
    "if num_stud == num_corsi:\n",
    "    print ( corsi )\n",
    "else:\n",
    "    print('Non corrisponde')"
   ]
  },
  {
   "cell_type": "markdown",
   "id": "bdf4eb8c-62bd-4bcc-ba2c-06faf3ee5ddc",
   "metadata": {
    "jp-MarkdownHeadingCollapsed": true
   },
   "source": [
    "# Esercizio 7:\n",
    "Scriviamo un programma che chiede in input all'utente una stringa e visualizza i primi 3 caratteri, seguiti da 3 punti di sospensione \n",
    "e quindi gli ultimi 3 caratteri, similmente all'esercizio della lezione scorsa. \n",
    "Stavolta facciamo attenzione a tutti i casi particolari, ovvero implementare soluzioni ad hoc per stringhe di lunghezza inferiore a 6 caratteri."
   ]
  },
  {
   "cell_type": "code",
   "execution_count": 16,
   "id": "f053cdde-ea8f-4a94-b0a6-c503ccbd0ccf",
   "metadata": {},
   "outputs": [
    {
     "name": "stdin",
     "output_type": "stream",
     "text": [
      "Inserisci la stringa:  sampdoria\n"
     ]
    }
   ],
   "source": [
    "stringa = input('Inserisci la stringa: ')"
   ]
  },
  {
   "cell_type": "code",
   "execution_count": 17,
   "id": "cf60ba9d-c131-483f-8caa-5d44367dbad6",
   "metadata": {},
   "outputs": [
    {
     "name": "stdout",
     "output_type": "stream",
     "text": [
      "sam ... ria\n"
     ]
    }
   ],
   "source": [
    "lenght = len(stringa)\n",
    "if lenght == 6:\n",
    "    print(stringa)\n",
    "elif lenght < 6:\n",
    "    print('La stringa è troppo corta')\n",
    "else:\n",
    "    print(stringa[:3], '...' , stringa[-3:])\n"
   ]
  },
  {
   "cell_type": "markdown",
   "id": "6000c883-380a-4b21-8838-2132fe568db1",
   "metadata": {
    "jp-MarkdownHeadingCollapsed": true
   },
   "source": [
    "# Esercizio 8:\n",
    "Memorizza e stampa tutti i fattori di un numero dato in input. Esempio: • input: 150 • output: [2, 3, 5, 5]"
   ]
  },
  {
   "cell_type": "code",
   "execution_count": 4,
   "id": "b52c6816-f0cb-4ad7-b4d7-7c4ce48824fb",
   "metadata": {},
   "outputs": [
    {
     "name": "stdin",
     "output_type": "stream",
     "text": [
      "Inserisci il numero:  150\n"
     ]
    }
   ],
   "source": [
    "numero = int(input('Inserisci il numero: '))"
   ]
  },
  {
   "cell_type": "code",
   "execution_count": 6,
   "id": "8bc6a749-0076-451e-87fd-f4d6807c0f4a",
   "metadata": {},
   "outputs": [
    {
     "name": "stdout",
     "output_type": "stream",
     "text": [
      "[2, 3, 5, 5]\n"
     ]
    }
   ],
   "source": [
    "fattori = []\n",
    "num = 2\n",
    "Numero = numero\n",
    "while Numero != 1:\n",
    "    if Numero % num == 0:\n",
    "        fattori.append(num)\n",
    "        Numero = Numero / num\n",
    "    else: num += 1\n",
    "print(fattori)"
   ]
  },
  {
   "cell_type": "markdown",
   "id": "aa948eb9-995b-4fa8-a045-58c5fc7b1ae5",
   "metadata": {
    "jp-MarkdownHeadingCollapsed": true
   },
   "source": [
    "# Esercizio 9:\n",
    "Abbiamo la stringa: nome_scuola = \"Epicode\" Stampare ogni carattere della stringa, uno su ogni riga, utilizzando un costrutto for."
   ]
  },
  {
   "cell_type": "code",
   "execution_count": 7,
   "id": "b299d049-1e37-43ff-abfb-370d586b9785",
   "metadata": {},
   "outputs": [],
   "source": [
    "nome_scuola = \"Epicode\""
   ]
  },
  {
   "cell_type": "code",
   "execution_count": 8,
   "id": "b215797e-6de1-48b6-a356-04d8e7e7019b",
   "metadata": {},
   "outputs": [
    {
     "name": "stdout",
     "output_type": "stream",
     "text": [
      "E\n",
      "p\n",
      "i\n",
      "c\n",
      "o\n",
      "d\n",
      "e\n"
     ]
    }
   ],
   "source": [
    "for carattere in nome_scuola:\n",
    "    print(carattere)"
   ]
  },
  {
   "cell_type": "markdown",
   "id": "cbde12f2-b2db-4216-825b-ac9e2df19720",
   "metadata": {
    "jp-MarkdownHeadingCollapsed": true
   },
   "source": [
    "# Esercizio 10:\n",
    "Calcolare e stampare tutte le prime 10 potenze di 2 utilizzando un ciclo."
   ]
  },
  {
   "cell_type": "code",
   "execution_count": 23,
   "id": "d5616361-4f15-4c83-be29-b82da3f70151",
   "metadata": {},
   "outputs": [],
   "source": [
    "esponente = 0\n",
    "potenza = 2**esponente"
   ]
  },
  {
   "cell_type": "code",
   "execution_count": 24,
   "id": "652ed93a-9513-44f6-a688-7134d395b0da",
   "metadata": {},
   "outputs": [
    {
     "name": "stdout",
     "output_type": "stream",
     "text": [
      "1\n",
      "2\n",
      "4\n",
      "8\n",
      "16\n",
      "32\n",
      "64\n",
      "128\n",
      "256\n",
      "512\n"
     ]
    }
   ],
   "source": [
    "while esponente < 10:\n",
    "    print(potenza)\n",
    "    esponente += 1\n",
    "    potenza = 2**esponente"
   ]
  },
  {
   "cell_type": "code",
   "execution_count": 25,
   "id": "7aef6574-670a-479c-81df-c4b25e873261",
   "metadata": {},
   "outputs": [
    {
     "name": "stdout",
     "output_type": "stream",
     "text": [
      "1024\n",
      "2\n",
      "4\n",
      "8\n",
      "16\n",
      "32\n",
      "64\n",
      "128\n",
      "256\n",
      "512\n"
     ]
    }
   ],
   "source": [
    "for esponente in range(10):\n",
    "    print(potenza)\n",
    "    esponente += 1\n",
    "    potenza = 2**esponente"
   ]
  },
  {
   "cell_type": "markdown",
   "id": "d6d9907c-b307-4a1f-9244-7669b962a07c",
   "metadata": {
    "jp-MarkdownHeadingCollapsed": true
   },
   "source": [
    "# Esercizio 11:\n",
    "Calcolare (ma non stampare) le prime N potenze di K; ognuna di esse andrà memorizzata in coda a una lista.\n",
    "Alla fine, stampare la lista risultante. Proviamo con diversi valori di K, oppure facciamola inserire all'utente.\n",
    "Realizzare due versioni: • con un ciclo while, • con un ciclo for."
   ]
  },
  {
   "cell_type": "code",
   "execution_count": 9,
   "id": "cfbb2dab-f08d-4ca0-ac42-6aab1a99292f",
   "metadata": {},
   "outputs": [
    {
     "name": "stdin",
     "output_type": "stream",
     "text": [
      "Inserisci il valore di K:  5\n",
      "Inserisci il valore di N:  6\n"
     ]
    }
   ],
   "source": [
    "K = int(input('Inserisci il valore di K: '))\n",
    "N = int(input('Inserisci il valore di N: '))"
   ]
  },
  {
   "cell_type": "code",
   "execution_count": 10,
   "id": "58512c27-1f1a-44a5-a953-83dfb992c1f4",
   "metadata": {},
   "outputs": [],
   "source": [
    "potenze = []\n",
    "n = 0\n",
    "potenza = K**n"
   ]
  },
  {
   "cell_type": "code",
   "execution_count": 11,
   "id": "ca7aa2ab-249a-4b2c-b4a0-d0d3988fc7a8",
   "metadata": {},
   "outputs": [],
   "source": [
    "while n < N:        # ciclo while\n",
    "    potenze.append(potenza)\n",
    "    n += 1\n",
    "    potenza = K**n"
   ]
  },
  {
   "cell_type": "code",
   "execution_count": 12,
   "id": "12b5133d-d113-4181-a953-e50f70cfd4c8",
   "metadata": {},
   "outputs": [],
   "source": [
    "for i in range(N):     # ciclo for\n",
    "    potenze.append(K**i)"
   ]
  },
  {
   "cell_type": "code",
   "execution_count": 13,
   "id": "791a025b-45d5-4e94-8723-0b7181ea1981",
   "metadata": {},
   "outputs": [
    {
     "data": {
      "text/plain": [
       "[1, 5, 25, 125, 625, 3125, 1, 5, 25, 125, 625, 3125]"
      ]
     },
     "execution_count": 13,
     "metadata": {},
     "output_type": "execute_result"
    }
   ],
   "source": [
    "potenze"
   ]
  },
  {
   "cell_type": "markdown",
   "id": "c77614e0-4772-48e8-8641-41b85ddf4ca1",
   "metadata": {
    "jp-MarkdownHeadingCollapsed": true
   },
   "source": [
    "# Esercizio 12:\n",
    "Abbiamo una lista con i guadagni degli ultimi 12 mesi: guadagni = [100, 90, 70, 40, 50, 80, 90, 120, 80, 20, 50, 50] \n",
    "usando un costrutto for, calcolare la media dei guadagni e stamparla a video."
   ]
  },
  {
   "cell_type": "code",
   "execution_count": 14,
   "id": "a8bcf38a-edbe-4285-9002-5d1cfd9ff4d1",
   "metadata": {},
   "outputs": [],
   "source": [
    "guadagni = [100, 90, 70, 40, 50, 80, 90, 120, 80, 20, 50, 50] "
   ]
  },
  {
   "cell_type": "code",
   "execution_count": 15,
   "id": "d05842ea-df21-4259-806f-d3f39b0fa925",
   "metadata": {},
   "outputs": [
    {
     "name": "stdout",
     "output_type": "stream",
     "text": [
      "70.0\n"
     ]
    }
   ],
   "source": [
    "somma = 0\n",
    "for guadagno in guadagni:\n",
    "    somma += guadagno\n",
    "media = somma / len(guadagni)\n",
    "print(media)"
   ]
  },
  {
   "cell_type": "markdown",
   "id": "22329f8e-a0cd-4d2d-a765-585bc28567c1",
   "metadata": {
    "jp-MarkdownHeadingCollapsed": true
   },
   "source": [
    "# Esercizio 13:\n",
    "Abbiamo una lista di parole: parole = [\"Albergo\", \"Sedia\", \"Borgo\", \"Petalo\", \"Eremo\", \"Belvedere\", \"Semestre\", \"Esteta\", \"Sosta\", \"Orpello\", \"Abete\", \"Orologio\", \"Cesta\", \"Ermellino\"] stampiamo, per ogni parola, quante volte appare la lettera \"e\"; facciamo attenzione al fatto che appare sia maiuscola che minuscola."
   ]
  },
  {
   "cell_type": "code",
   "execution_count": 16,
   "id": "55c62c06-dd56-4268-aa59-3d78b4386db9",
   "metadata": {},
   "outputs": [],
   "source": [
    "parole = [\"Albergo\", \"Sedia\", \"Borgo\", \"Petalo\", \"Eremo\", \"Belvedere\", \"Semestre\", \"Esteta\", \"Sosta\", \"Orpello\", \"Abete\", \"Orologio\", \n",
    "          \"Cesta\", \"Ermellino\"]"
   ]
  },
  {
   "cell_type": "code",
   "execution_count": 17,
   "id": "48ce7478-74ea-4df2-bb37-cb91bbbe6aeb",
   "metadata": {},
   "outputs": [
    {
     "name": "stdout",
     "output_type": "stream",
     "text": [
      "Albergo contiene la lettera \"e\" 1 volte\n",
      "Sedia contiene la lettera \"e\" 1 volte\n",
      "Borgo contiene la lettera \"e\" 0 volte\n",
      "Petalo contiene la lettera \"e\" 1 volte\n",
      "Eremo contiene la lettera \"e\" 2 volte\n",
      "Belvedere contiene la lettera \"e\" 4 volte\n",
      "Semestre contiene la lettera \"e\" 3 volte\n",
      "Esteta contiene la lettera \"e\" 2 volte\n",
      "Sosta contiene la lettera \"e\" 0 volte\n",
      "Orpello contiene la lettera \"e\" 1 volte\n",
      "Abete contiene la lettera \"e\" 2 volte\n",
      "Orologio contiene la lettera \"e\" 0 volte\n",
      "Cesta contiene la lettera \"e\" 1 volte\n",
      "Ermellino contiene la lettera \"e\" 2 volte\n"
     ]
    }
   ],
   "source": [
    "for parola in parole:\n",
    "    conto = parola.count('e') + parola.count('E')\n",
    "    print(parola,'contiene la lettera \"e\"',conto,'volte')"
   ]
  },
  {
   "cell_type": "markdown",
   "id": "b6b5db95-8cd9-433c-bc1b-a7c93c3b8013",
   "metadata": {
    "jp-MarkdownHeadingCollapsed": true
   },
   "source": [
    "# Esercizio 14:\n",
    "Creiamo un dizionario che assegni ad ogni proprietario la sua auto, sapendo che: • Ada guida una Punto • Ben guida una Multipla • Charlie guida una Golf • Debbie guida una 107 Stampiamo il dizionario per intero, e poi l'auto associata a Debbie."
   ]
  },
  {
   "cell_type": "code",
   "execution_count": 18,
   "id": "05dad851-8b3f-48ed-a50c-eb3d305a8783",
   "metadata": {},
   "outputs": [
    {
     "name": "stdout",
     "output_type": "stream",
     "text": [
      "{'Ada': 'Punto', 'Ben': 'Multipla', 'Charlie': 'Golf', 'Debbie': '107'}\n"
     ]
    }
   ],
   "source": [
    "Macchine = { 'Ada' : 'Punto' , 'Ben' : 'Multipla' , 'Charlie' : 'Golf' , 'Debbie' : '107'}\n",
    "print(Macchine)"
   ]
  },
  {
   "cell_type": "code",
   "execution_count": 19,
   "id": "a6e99e6f-3e64-47bc-bb42-7962f588d2d8",
   "metadata": {},
   "outputs": [
    {
     "name": "stdout",
     "output_type": "stream",
     "text": [
      "107\n"
     ]
    }
   ],
   "source": [
    "print(Macchine['Debbie'])"
   ]
  },
  {
   "cell_type": "markdown",
   "id": "74b3e107-254f-4c0f-835e-a90789999ef6",
   "metadata": {
    "jp-MarkdownHeadingCollapsed": true
   },
   "source": [
    "# Esercizio 15:\n",
    "Abbiamo un dizionario che assegna ad ogni proprietario la sua auto: dizionario_auto = {\"Ada\": \"Punto\", \"Ben\": \"Multipla\", \"Charlie\": \"Golf\",\n",
    "\"Debbie\": \"107\"} Con un ciclo, e usando il metodo .values(), stampiamo a video tutte le auto che non sono una Multipla."
   ]
  },
  {
   "cell_type": "code",
   "execution_count": 3,
   "id": "f29ebc95-6950-4625-b48c-954218c0b222",
   "metadata": {},
   "outputs": [],
   "source": [
    "dizionario_auto = {\"Ada\": \"Punto\", \"Ben\": \"Multipla\", \"Charlie\": \"Golf\", \"Debbie\": \"107\"}"
   ]
  },
  {
   "cell_type": "code",
   "execution_count": 6,
   "id": "8b8ca371-0c3e-406f-b001-43e735ed470a",
   "metadata": {},
   "outputs": [
    {
     "name": "stdout",
     "output_type": "stream",
     "text": [
      "Punto\n",
      "Golf\n",
      "107\n"
     ]
    }
   ],
   "source": [
    "for auto in dizionario_auto.values():\n",
    "    if auto != \"Multipla\":\n",
    "        print(auto)"
   ]
  },
  {
   "cell_type": "markdown",
   "id": "b11f0302-9a05-4fca-a417-1f451c0b1441",
   "metadata": {
    "jp-MarkdownHeadingCollapsed": true
   },
   "source": [
    "# Esercizio 16:\n",
    "Abbiamo due dizionari che assegnano ad ogni proprietario la propria auto: dizionario_auto = {\"Ada\": \"Punto\", \"Ben\": \"Multipla\", \"Charlie\": \"Golf\", \"Debbie\": \"107\", \"Emily\": \"A1\"} nuovi_proprietari = {\"Ben\": \"Polo\", \"Fred\": \"Octavia\", \"Grace\": \"Yaris\", \"Hugh\": \"Clio\"} Aggiornare il dizionario dizionario_auto con i dati contenuti in nuovi_proprietari e stamparlo. Cosa è successo a Ben?"
   ]
  },
  {
   "cell_type": "code",
   "execution_count": 22,
   "id": "336faf09-4b20-46de-938f-8fd79ba125c7",
   "metadata": {},
   "outputs": [],
   "source": [
    "dizionario_auto = {\"Ada\": \"Punto\", \"Ben\": \"Multipla\", \"Charlie\": \"Golf\", \"Debbie\": \"107\", \"Emily\": \"A1\"}\n",
    "nuovi_proprietari = {\"Ben\": \"Polo\", \"Fred\": \"Octavia\", \"Grace\": \"Yaris\", \"Hugh\": \"Clio\"}"
   ]
  },
  {
   "cell_type": "code",
   "execution_count": 23,
   "id": "5b6f5496-7753-4fd4-b411-2468ae7e28f7",
   "metadata": {},
   "outputs": [
    {
     "name": "stdout",
     "output_type": "stream",
     "text": [
      "{'Ada': 'Punto', 'Ben': 'Polo', 'Charlie': 'Golf', 'Debbie': '107', 'Emily': 'A1', 'Fred': 'Octavia', 'Grace': 'Yaris', 'Hugh': 'Clio'}\n"
     ]
    }
   ],
   "source": [
    "dizionario_auto.update(nuovi_proprietari)\n",
    "print(dizionario_auto)"
   ]
  },
  {
   "cell_type": "markdown",
   "id": "462bcc52-b7e4-4317-80d7-8aa8d1bbe6ee",
   "metadata": {
    "jp-MarkdownHeadingCollapsed": true
   },
   "source": [
    "# Esercizio 17:\n",
    "Osservando la sintassi dei dizionari, possiamo notare qualche affinità con il formato JSON?"
   ]
  },
  {
   "cell_type": "markdown",
   "id": "c9a6caad-b659-4824-b4f1-ef94b26ec035",
   "metadata": {},
   "source": [
    "Hanno una struttura identica in relazione al rapporto chiave:valore"
   ]
  },
  {
   "cell_type": "markdown",
   "id": "361ea3af-51eb-468c-98f5-a2c04a7ad914",
   "metadata": {
    "jp-MarkdownHeadingCollapsed": true
   },
   "source": [
    "# Esercizio 18:\n",
    "Scrivere un programma che, data una lista di numeri, fornisca in output il minimo e il massimo (possiamo usare o meno le funzioni built-in min() e max())."
   ]
  },
  {
   "cell_type": "code",
   "execution_count": 26,
   "id": "fa2c3982-48d1-4c7c-ba7b-29a1a64fe2e2",
   "metadata": {},
   "outputs": [],
   "source": [
    "lista_numeri = [ 1, 5, 7, 8, 2, 19, 46, 0, 53, 35, 17, 7 ]"
   ]
  },
  {
   "cell_type": "code",
   "execution_count": 25,
   "id": "efe93276-16bf-4bd6-80bc-9fd6344e1010",
   "metadata": {},
   "outputs": [
    {
     "name": "stdout",
     "output_type": "stream",
     "text": [
      "il numero massimo è 53 , il numero minimo è 0\n"
     ]
    }
   ],
   "source": [
    "print('il numero massimo è' , max(lista_numeri), ', il numero minimo è' , min(lista_numeri))"
   ]
  },
  {
   "cell_type": "markdown",
   "id": "edbe6549-a6e7-4556-8a2f-e42a8d66c14d",
   "metadata": {},
   "source": [
    "# Esercizio 19:\n",
    "Scrivere un programma che, data una lista di numeri, fornisca in output i tre numeri più grandi; gestire il caso in cui la lista sia più corta di tre, e quando uno o più dei numeri selezionati sono uguali."
   ]
  },
  {
   "cell_type": "code",
   "execution_count": 25,
   "id": "3c1b84e8-13eb-4e83-a231-e0f7ea69a68a",
   "metadata": {},
   "outputs": [],
   "source": [
    "lista_numeri = [ 10, 7, 8, 3, 79, 23]"
   ]
  },
  {
   "cell_type": "code",
   "execution_count": 26,
   "id": "6a953720-7821-42f5-ad4b-297a7ce2b5df",
   "metadata": {},
   "outputs": [
    {
     "name": "stdout",
     "output_type": "stream",
     "text": [
      "[3, 7, 8] [10, 23, 79]\n"
     ]
    }
   ],
   "source": [
    "lista_numeri.sort()\n",
    "if len(lista_numeri) < 6:\n",
    "    print ('La lista è troppo corta')\n",
    "else:\n",
    "    print(lista_numeri[:3],lista_numeri[-3:])"
   ]
  },
  {
   "cell_type": "markdown",
   "id": "c3239838-a647-4582-bf48-5ca2509c5160",
   "metadata": {
    "jp-MarkdownHeadingCollapsed": true
   },
   "source": [
    "# Esercizio 20:\n",
    "Scrivere un programma che \n",
    "• in input acquisisce una lista di numeri e un numero K \n",
    "• in output, dovrà restituire la media di tutti i numeri nella lista maggiori o uguali a K \n",
    "• se non ce ne dovesse essere nessuno, dovrà stampare a schermo un messaggio adeguato."
   ]
  },
  {
   "cell_type": "code",
   "execution_count": 27,
   "id": "07b0bb26-1335-45c6-955d-c1d547078895",
   "metadata": {},
   "outputs": [
    {
     "name": "stdin",
     "output_type": "stream",
     "text": [
      "Inserisci una lista di numeri separati da spazi:  10 22 15 5 7 6\n",
      "Inserisci il valore di K:  7\n"
     ]
    }
   ],
   "source": [
    "input_lista = input('Inserisci una lista di numeri separati da spazi: ')\n",
    "K = int(input('Inserisci il valore di K: '))"
   ]
  },
  {
   "cell_type": "code",
   "execution_count": 30,
   "id": "6bf359ae-5bf8-4e73-8eda-973207e83c79",
   "metadata": {},
   "outputs": [],
   "source": [
    "lista = list(map(int, input_lista.split()))\n",
    "numeri = []\n",
    "for numero in lista:\n",
    "    if numero >= K:\n",
    "        numeri.append(numero)"
   ]
  },
  {
   "cell_type": "code",
   "execution_count": 31,
   "id": "ba6ac1ef-9c9f-4978-97d3-f109e2747711",
   "metadata": {},
   "outputs": [
    {
     "name": "stdout",
     "output_type": "stream",
     "text": [
      "13.5\n"
     ]
    }
   ],
   "source": [
    "somma = sum(numeri)\n",
    "media = somma/len(numeri)\n",
    "if len(numeri) > 0:\n",
    "    print(media)\n",
    "else:\n",
    "    print('Non ci sono numeri maggiori di K')"
   ]
  },
  {
   "cell_type": "markdown",
   "id": "f3b606c1-e8c3-42b2-bf75-bfb5dc051b6d",
   "metadata": {},
   "source": [
    "# Esercizio 21:\n",
    "Scrivere un programma che, data una lista di numeri, come output stamperà lo stesso numero di asterischi su righe diverse, ottenendo una semplice visualizzazione grafica Esempio, supponendo di avere il seguente input: numeri = [5, 2, 3, 4] L'output sarà: ***** ** *** ****"
   ]
  },
  {
   "cell_type": "code",
   "execution_count": 44,
   "id": "1d91f85f-190e-408d-8ef1-d020ee8a6e6f",
   "metadata": {},
   "outputs": [],
   "source": [
    "numeri = [5, 2, 3, 4]"
   ]
  },
  {
   "cell_type": "code",
   "execution_count": 47,
   "id": "287680d1-ad6c-4bad-bdea-b268b1716c1c",
   "metadata": {},
   "outputs": [],
   "source": [
    "asterischi = []\n",
    "for numero in numeri:\n",
    "    asterisco = '*' * numero\n",
    "    asterischi.append(asterisco)"
   ]
  },
  {
   "cell_type": "code",
   "execution_count": 48,
   "id": "60dd008c-4700-4030-93b2-927df0ed3351",
   "metadata": {},
   "outputs": [
    {
     "data": {
      "text/plain": [
       "['*****', '**', '***', '****']"
      ]
     },
     "execution_count": 48,
     "metadata": {},
     "output_type": "execute_result"
    }
   ],
   "source": [
    "asterischi"
   ]
  },
  {
   "cell_type": "markdown",
   "id": "6f09b312-8e2c-49ee-bd3e-73b58fccc31b",
   "metadata": {},
   "source": [
    "# Esercizio 22:\n",
    "Abbiamo una lista di codici fiscali: lista_cf = [\"ABCDEF95G01A123B\", \"GHIJKL91M02A321C\", \"MNOPQR89S03A456D\", \"STUVWX95Z04A654E\", \"XYZABC01D05A789F\", \"DEFGHI95J06A987G\"] • trovare i codici fiscali che contengono \"95\", metterli in una lista, e alla fine stamparla; • inoltre, per ognuno di essi, stampare a video i caratteri relativi al nome e quelli relativi al cognome."
   ]
  },
  {
   "cell_type": "code",
   "execution_count": 49,
   "id": "14a2f3ee-6e8d-49e0-95ad-5c6f76de5fb2",
   "metadata": {},
   "outputs": [],
   "source": [
    "lista_cf = [\"ABCDEF95G01A123B\", \"GHIJKL91M02A321C\", \"MNOPQR89S03A456D\", \"STUVWX95Z04A654E\", \"XYZABC01D05A789F\", \"DEFGHI95J06A987G\"]"
   ]
  },
  {
   "cell_type": "code",
   "execution_count": 50,
   "id": "d9c1a45a-453b-4300-b3e4-12e47a593bee",
   "metadata": {},
   "outputs": [],
   "source": [
    "lista_95 = []\n",
    "for cf in lista_cf:\n",
    "    if \"95\" in cf:\n",
    "        lista_95.append(cf)"
   ]
  },
  {
   "cell_type": "code",
   "execution_count": 51,
   "id": "546de1e0-b6f5-40c4-ade6-173c44041f3b",
   "metadata": {},
   "outputs": [
    {
     "data": {
      "text/plain": [
       "['ABCDEF95G01A123B', 'STUVWX95Z04A654E', 'DEFGHI95J06A987G']"
      ]
     },
     "execution_count": 51,
     "metadata": {},
     "output_type": "execute_result"
    }
   ],
   "source": [
    "lista_95"
   ]
  },
  {
   "cell_type": "code",
   "execution_count": 53,
   "id": "4160ea90-86bc-4b27-bb1c-f37a5a48274a",
   "metadata": {},
   "outputs": [
    {
     "name": "stdout",
     "output_type": "stream",
     "text": [
      "ABC DEF\n",
      "STU VWX\n",
      "DEF GHI\n"
     ]
    }
   ],
   "source": [
    "for cf95 in lista_95:\n",
    "    print(cf95[:3],cf95[3:6])"
   ]
  },
  {
   "cell_type": "markdown",
   "id": "86022a4f-4f29-4fac-97b1-b31b1d395721",
   "metadata": {
    "jp-MarkdownHeadingCollapsed": true
   },
   "source": [
    "# Esercizio 23:\n",
    "Abbiamo tre liste della stessa lunghezza, dove ogni elemento nella medesima posizione si riferisce ai dati dello stesso studente: studenti = [\"Alex\", \"Bob\", \"Cindy\", \"Dan\", \"Emma\", \"Faith\", \"Grace\", \"Henry\"] corsi = [\"Cybersecurity\", \"Data Analyst\", \"Backend\", \"Frontend\", \"Data Analyst\", \"Backend\", \"Frontend\", \"Cybersecurity\"] edizioni = [1, 2, 3, 2, 2, 1, 3, 3] • Stampare a video tutti e soli gli studenti che frequentano una prima edizione; non tutti i dati potrebbero essere necessari."
   ]
  },
  {
   "cell_type": "code",
   "execution_count": 9,
   "id": "539b8049-301f-42e4-a309-1326084e63b1",
   "metadata": {},
   "outputs": [],
   "source": [
    "studenti = [\"Alex\", \"Bob\", \"Cindy\", \"Dan\", \"Emma\", \"Faith\", \"Grace\", \"Henry\"]\n",
    "corsi = [\"Cybersecurity\", \"Data Analyst\", \"Backend\", \"Frontend\", \"Data Analyst\", \"Backend\", \"Frontend\", \"Cybersecurity\"]\n",
    "edizioni = [1, 2, 3, 2, 2, 1, 3, 3]"
   ]
  },
  {
   "cell_type": "code",
   "execution_count": 63,
   "id": "df945037-670b-440b-b926-454c8ba40329",
   "metadata": {},
   "outputs": [
    {
     "name": "stdout",
     "output_type": "stream",
     "text": [
      "{'Alex': 1, 'Bob': 2, 'Cindy': 3, 'Dan': 2, 'Emma': 2, 'Faith': 1, 'Grace': 3, 'Henry': 3}\n"
     ]
    }
   ],
   "source": [
    "stud_ed = dict(zip(studenti,edizioni))\n",
    "print(stud_ed)"
   ]
  },
  {
   "cell_type": "code",
   "execution_count": null,
   "id": "d3d306bf-fe92-4601-9740-66074d715d3b",
   "metadata": {},
   "outputs": [],
   "source": []
  },
  {
   "cell_type": "markdown",
   "id": "112ab256-49ae-4232-94f2-1f763c695b30",
   "metadata": {
    "jp-MarkdownHeadingCollapsed": true
   },
   "source": [
    "# Esercizio 24:\n",
    "Abbiamo una lista di stringhe di prezzi in dollari, che erroneamente sono stati scritti con il simbolo dell'euro: prezzi = [\"100 €\", \"200 €\", \"500 €\", \"10 €\", \"50 €\", \"70 €\"] cambiare il simbolo dell'euro (€) in quello del dollaro ($) per ogni stringa nella lista; il risultato sarà memorizzato in un'altra lista."
   ]
  },
  {
   "cell_type": "code",
   "execution_count": 44,
   "id": "1349a558-a410-4764-8a4a-65498c411eb3",
   "metadata": {},
   "outputs": [],
   "source": [
    "prezzi = [\"100 €\", \"200 €\", \"500 €\", \"10 €\", \"50 €\", \"70 €\"]"
   ]
  },
  {
   "cell_type": "code",
   "execution_count": 46,
   "id": "8994946e-d6ea-4c76-870a-4e0444389e28",
   "metadata": {},
   "outputs": [
    {
     "name": "stdout",
     "output_type": "stream",
     "text": [
      "['100 $', '200 $', '500 $', '10 $', '50 $', '70 $']\n"
     ]
    }
   ],
   "source": [
    "nuovi_prezzi = []\n",
    "for prezzo in prezzi:\n",
    "    nuovo_prezzo = prezzo.replace('€','$')\n",
    "    nuovi_prezzi.append(nuovo_prezzo)\n",
    "print(nuovi_prezzi)"
   ]
  },
  {
   "cell_type": "markdown",
   "id": "261b459a-d742-4d7f-83cc-60ee7c063904",
   "metadata": {
    "jp-MarkdownHeadingCollapsed": true
   },
   "source": [
    "# Esercizio 25:\n",
    "Abbiamo una lista di studenti: studenti = [\"Alex\", \"Bob\", \"Cindy\", \"Dan\", \"Emma\", \"Faith\", \"Grace\", \"Henry\", \"Isabelle\", \"John\"] vogliamo dividere gli studenti in due squadre per un campionato di Uno nel seguente modo: selezioneremo i nomi in posizione pari per un squadra, e i nomi in posizione dispari per l'altra. Creiamo due liste per ogni squadra, e alla fine visualizziamole."
   ]
  },
  {
   "cell_type": "code",
   "execution_count": 47,
   "id": "e261c831-a356-469d-8633-e7e8f68db82f",
   "metadata": {},
   "outputs": [],
   "source": [
    "studenti = [\"Alex\", \"Bob\", \"Cindy\", \"Dan\", \"Emma\", \"Faith\", \"Grace\", \"Henry\", \"Isabelle\", \"John\"]"
   ]
  },
  {
   "cell_type": "code",
   "execution_count": 49,
   "id": "da3ed605-6f1e-4200-9bdd-1acd7c8d97fd",
   "metadata": {},
   "outputs": [
    {
     "name": "stdout",
     "output_type": "stream",
     "text": [
      "['Alex', 'Cindy', 'Emma', 'Grace', 'Isabelle'] ['Bob', 'Dan', 'Faith', 'Henry', 'John']\n"
     ]
    }
   ],
   "source": [
    "squadra1 = studenti[0::2]\n",
    "squadra2 = studenti[1::2]\n",
    "print(squadra1,squadra2)"
   ]
  },
  {
   "cell_type": "markdown",
   "id": "3df62026-7e83-4140-9eaa-ad42d8cdb35e",
   "metadata": {},
   "source": [
    "# Esercizio 26:\n",
    "Abbiamo una lista con i guadagni degli ultimi 12 mesi (supponiamo da Gennaio a Dicembre): guadagni = [100, 90, 70, 40, 50, 80, 90, 120, 80, 20, 50, 50] dobbiamo confrontare, stampando tutto a video, il guadagno di ogni mese con la media dei guadagni precedenti, e specificare nell'output se il guadagno attuale è maggiore o minore della media dei precedenti. Esempio di un possibile output: Mese 1: 100 € Mese 2: 90 € (media prec: 100 € - il guadagno attuale è minore)"
   ]
  },
  {
   "cell_type": "code",
   "execution_count": 50,
   "id": "f732a29f-10e5-45e5-bf01-7d28d0ad37ff",
   "metadata": {},
   "outputs": [],
   "source": [
    "guadagni = [100, 90, 70, 40, 50, 80, 90, 120, 80, 20, 50, 50]"
   ]
  },
  {
   "cell_type": "code",
   "execution_count": 99,
   "id": "f2ae830c-894c-4b56-ac0f-cbe26c1832d3",
   "metadata": {},
   "outputs": [
    {
     "name": "stdout",
     "output_type": "stream",
     "text": [
      "Mese 1 : 100 €\n",
      "Mese 2 : 90 € (Media mesi precedenti: 100.0 €)-Il guadagno attuale è minore\n",
      "Mese 3 : 70 € (Media mesi precedenti: 95.0 €)-Il guadagno attuale è minore\n",
      "Mese 4 : 40 € (Media mesi precedenti: 86.66666666666667 €)-Il guadagno attuale è minore\n",
      "Mese 5 : 50 € (Media mesi precedenti: 75.0 €)-Il guadagno attuale è minore\n",
      "Mese 6 : 80 € (Media mesi precedenti: 70.0 €)-Il guadagno attuale è maggiore\n",
      "Mese 7 : 90 € (Media mesi precedenti: 71.66666666666667 €)-Il guadagno attuale è maggiore\n",
      "Mese 8 : 120 € (Media mesi precedenti: 74.28571428571429 €)-Il guadagno attuale è maggiore\n",
      "Mese 9 : 80 € (Media mesi precedenti: 80.0 €)-Il guadagno attuale è uguale\n",
      "Mese 10 : 20 € (Media mesi precedenti: 80.0 €)-Il guadagno attuale è minore\n",
      "Mese 11 : 50 € (Media mesi precedenti: 74.0 €)-Il guadagno attuale è minore\n",
      "Mese 12 : 50 € (Media mesi precedenti: 71.81818181818181 €)-Il guadagno attuale è minore\n"
     ]
    }
   ],
   "source": [
    "totale = 0\n",
    "for i in range(len(guadagni)):\n",
    "    if i == 0:\n",
    "        print('Mese', i+1, ':', guadagni[i], '€')\n",
    "    else:\n",
    "        totale += guadagni[i-1]\n",
    "        media = totale / (i)\n",
    "        print('Mese', i+1, ':', guadagni[i], '€ (Media mesi precedenti:', media, '€)', end = '-')\n",
    "        \n",
    "        if guadagni[i] > media:\n",
    "            print('Il guadagno attuale è maggiore')\n",
    "        elif guadagni[i] == media:\n",
    "            print('Il guadagno attuale è uguale')\n",
    "        else:\n",
    "            print('Il guadagno attuale è minore')"
   ]
  },
  {
   "cell_type": "code",
   "execution_count": null,
   "id": "aeaf8a6d-0677-400b-84f5-de3c8200ef87",
   "metadata": {},
   "outputs": [],
   "source": []
  }
 ],
 "metadata": {
  "kernelspec": {
   "display_name": "Python 3 (ipykernel)",
   "language": "python",
   "name": "python3"
  },
  "language_info": {
   "codemirror_mode": {
    "name": "ipython",
    "version": 3
   },
   "file_extension": ".py",
   "mimetype": "text/x-python",
   "name": "python",
   "nbconvert_exporter": "python",
   "pygments_lexer": "ipython3",
   "version": "3.12.7"
  }
 },
 "nbformat": 4,
 "nbformat_minor": 5
}
